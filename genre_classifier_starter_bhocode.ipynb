{
 "cells": [
  {
   "cell_type": "markdown",
   "id": "a6de405a",
   "metadata": {},
   "source": [
    "# 🎧 Music Genre Classifier"
   ]
  },
  {
   "cell_type": "markdown",
   "id": "694ba534",
   "metadata": {},
   "source": [
    "This notebook loads audio files, extracts features using `librosa`, trains a classifier to predict music genres, and evaluates performance."
   ]
  },
  {
   "cell_type": "code",
   "execution_count": null,
   "id": "0a0031a4",
   "metadata": {},
   "outputs": [],
   "source": [
    "import os\n",
    "import librosa\n",
    "import numpy as np\n",
    "import pandas as pd\n",
    "import matplotlib.pyplot as plt\n",
    "from sklearn.ensemble import RandomForestClassifier\n",
    "from sklearn.model_selection import train_test_split\n",
    "from sklearn.metrics import accuracy_score, classification_report, confusion_matrix\n",
    "import seaborn as sns"
   ]
  },
  {
   "cell_type": "code",
   "execution_count": null,
   "id": "7c2839c2",
   "metadata": {},
   "outputs": [],
   "source": [
    "def extract_features(file_path):\n",
    "    y, sr = librosa.load(file_path, duration=30)\n",
    "    features = {\n",
    "        'chroma_stft': np.mean(librosa.feature.chroma_stft(y=y, sr=sr)),\n",
    "        'rmse': np.mean(librosa.feature.rms(y=y)),\n",
    "        'spectral_centroid': np.mean(librosa.feature.spectral_centroid(y=y, sr=sr)),\n",
    "        'spectral_bandwidth': np.mean(librosa.feature.spectral_bandwidth(y=y, sr=sr)),\n",
    "        'rolloff': np.mean(librosa.feature.spectral_rolloff(y=y, sr=sr)),\n",
    "        'zero_crossing_rate': np.mean(librosa.feature.zero_crossing_rate(y)),\n",
    "        'mfcc1': np.mean(librosa.feature.mfcc(y=y, sr=sr)[0]),\n",
    "        'mfcc2': np.mean(librosa.feature.mfcc(y=y, sr=sr)[1])\n",
    "    }\n",
    "    return list(features.values())"
   ]
  },
  {
   "cell_type": "code",
   "execution_count": null,
   "id": "3bca63d6",
   "metadata": {},
   "outputs": [],
   "source": [
    "# Replace 'data_path' with your actual path to the GTZAN dataset\n",
    "data_path = './data/genres_original/'\n",
    "genres = os.listdir(data_path)\n",
    "\n",
    "X = []\n",
    "y = []\n",
    "\n",
    "for genre in genres:\n",
    "    genre_path = os.path.join(data_path, genre)\n",
    "    if not os.path.isdir(genre_path):\n",
    "        continue\n",
    "    for file in os.listdir(genre_path):\n",
    "        if file.endswith('.wav'):\n",
    "            file_path = os.path.join(genre_path, file)\n",
    "            features = extract_features(file_path)\n",
    "            X.append(features)\n",
    "            y.append(genre)\n",
    "\n",
    "# Convert to DataFrame\n",
    "X_df = pd.DataFrame(X)\n",
    "y = pd.Series(y)\n"
   ]
  },
  {
   "cell_type": "code",
   "execution_count": null,
   "id": "d897223a",
   "metadata": {},
   "outputs": [],
   "source": [
    "X_train, X_test, y_train, y_test = train_test_split(X_df, y, test_size=0.2, random_state=42)\n",
    "\n",
    "model = RandomForestClassifier(n_estimators=100, random_state=42)\n",
    "model.fit(X_train, y_train)\n",
    "\n",
    "y_pred = model.predict(X_test)\n",
    "accuracy = accuracy_score(y_test, y_pred)\n",
    "print(\"Accuracy:\", accuracy)\n",
    "print(classification_report(y_test, y_pred))"
   ]
  },
  {
   "cell_type": "code",
   "execution_count": null,
   "id": "c0441145",
   "metadata": {},
   "outputs": [],
   "source": [
    "plt.figure(figsize=(10, 7))\n",
    "sns.heatmap(confusion_matrix(y_test, y_pred), annot=True, xticklabels=model.classes_, yticklabels=model.classes_)\n",
    "plt.xlabel(\"Predicted\")\n",
    "plt.ylabel(\"True\")\n",
    "plt.title(\"Confusion Matrix\")\n",
    "plt.show()"
   ]
  }
 ],
 "metadata": {},
 "nbformat": 4,
 "nbformat_minor": 5
}
